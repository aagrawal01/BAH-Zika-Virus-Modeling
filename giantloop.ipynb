{
 "cells": [
  {
   "cell_type": "code",
   "execution_count": 1,
   "metadata": {
    "collapsed": false
   },
   "outputs": [
    {
     "name": "stderr",
     "output_type": "stream",
     "text": [
      "/Users/amandazhang/anaconda2/lib/python2.7/site-packages/matplotlib/font_manager.py:273: UserWarning: Matplotlib is building the font cache using fc-list. This may take a moment.\n",
      "  warnings.warn('Matplotlib is building the font cache using fc-list. This may take a moment.')\n"
     ]
    }
   ],
   "source": [
    "import glob\n",
    "import pandas as pd\n",
    "import numpy as np\n",
    "import scipy as sp\n",
    "import matplotlib\n",
    "import matplotlib.pyplot as plt\n",
    "import sklearn\n",
    "from sklearn import preprocessing\n",
    "from sklearn import linear_model\n",
    "from sklearn.cross_validation import train_test_split\n",
    "import datetime\n",
    "import dateutil.parser as parser\n",
    "%matplotlib inline\n",
    "plt.style.use('ggplot')"
   ]
  },
  {
   "cell_type": "code",
   "execution_count": 7,
   "metadata": {
    "collapsed": false
   },
   "outputs": [],
   "source": [
    "master = pd.read_csv('master.csv', index_col=0)"
   ]
  },
  {
   "cell_type": "code",
   "execution_count": 21,
   "metadata": {
    "collapsed": false
   },
   "outputs": [],
   "source": [
    "master['log_commute_time'] = -np.log(master.commute_time)"
   ]
  },
  {
   "cell_type": "code",
   "execution_count": 23,
   "metadata": {
    "collapsed": false
   },
   "outputs": [],
   "source": [
    "master = master.drop('commute_time', axis=1)"
   ]
  },
  {
   "cell_type": "code",
   "execution_count": 24,
   "metadata": {
    "collapsed": false
   },
   "outputs": [
    {
     "data": {
      "text/html": [
       "<div>\n",
       "<table border=\"1\" class=\"dataframe\">\n",
       "  <thead>\n",
       "    <tr style=\"text-align: right;\">\n",
       "      <th></th>\n",
       "      <th>zika_counts</th>\n",
       "      <th>temp</th>\n",
       "      <th>pop</th>\n",
       "      <th>mosquito</th>\n",
       "      <th>total_seats_oag</th>\n",
       "      <th>flights_oag</th>\n",
       "      <th>log_commute_time</th>\n",
       "    </tr>\n",
       "    <tr>\n",
       "      <th>location</th>\n",
       "      <th></th>\n",
       "      <th></th>\n",
       "      <th></th>\n",
       "      <th></th>\n",
       "      <th></th>\n",
       "      <th></th>\n",
       "      <th></th>\n",
       "    </tr>\n",
       "  </thead>\n",
       "  <tbody>\n",
       "    <tr>\n",
       "      <th>Alabama</th>\n",
       "      <td>165</td>\n",
       "      <td>78.6</td>\n",
       "      <td>4863300</td>\n",
       "      <td>55.0</td>\n",
       "      <td>0.0</td>\n",
       "      <td>0.0</td>\n",
       "      <td>-7.374302</td>\n",
       "    </tr>\n",
       "    <tr>\n",
       "      <th>Alaska</th>\n",
       "      <td>0</td>\n",
       "      <td>52.3</td>\n",
       "      <td>741894</td>\n",
       "      <td>0.0</td>\n",
       "      <td>0.0</td>\n",
       "      <td>0.0</td>\n",
       "      <td>-7.530105</td>\n",
       "    </tr>\n",
       "    <tr>\n",
       "      <th>American Samoa</th>\n",
       "      <td>4</td>\n",
       "      <td>86.0</td>\n",
       "      <td>54343</td>\n",
       "      <td>12.0</td>\n",
       "      <td>0.0</td>\n",
       "      <td>0.0</td>\n",
       "      <td>-11.772244</td>\n",
       "    </tr>\n",
       "    <tr>\n",
       "      <th>Arizona</th>\n",
       "      <td>175</td>\n",
       "      <td>78.1</td>\n",
       "      <td>6931071</td>\n",
       "      <td>48.0</td>\n",
       "      <td>0.0</td>\n",
       "      <td>0.0</td>\n",
       "      <td>-6.358312</td>\n",
       "    </tr>\n",
       "    <tr>\n",
       "      <th>Arkansas</th>\n",
       "      <td>117</td>\n",
       "      <td>78.8</td>\n",
       "      <td>2988248</td>\n",
       "      <td>25.0</td>\n",
       "      <td>0.0</td>\n",
       "      <td>0.0</td>\n",
       "      <td>-7.620608</td>\n",
       "    </tr>\n",
       "  </tbody>\n",
       "</table>\n",
       "</div>"
      ],
      "text/plain": [
       "                zika_counts  temp      pop  mosquito  total_seats_oag  \\\n",
       "location                                                                \n",
       "Alabama                 165  78.6  4863300      55.0              0.0   \n",
       "Alaska                    0  52.3   741894       0.0              0.0   \n",
       "American Samoa            4  86.0    54343      12.0              0.0   \n",
       "Arizona                 175  78.1  6931071      48.0              0.0   \n",
       "Arkansas                117  78.8  2988248      25.0              0.0   \n",
       "\n",
       "                flights_oag  log_commute_time  \n",
       "location                                       \n",
       "Alabama                 0.0         -7.374302  \n",
       "Alaska                  0.0         -7.530105  \n",
       "American Samoa          0.0        -11.772244  \n",
       "Arizona                 0.0         -6.358312  \n",
       "Arkansas                0.0         -7.620608  "
      ]
     },
     "execution_count": 24,
     "metadata": {},
     "output_type": "execute_result"
    }
   ],
   "source": [
    "master.head()"
   ]
  },
  {
   "cell_type": "code",
   "execution_count": 37,
   "metadata": {
    "collapsed": false
   },
   "outputs": [
    {
     "name": "stdout",
     "output_type": "stream",
     "text": [
      "Regression Baseline model\n",
      "\n",
      "R2 on training:  0.847691387055\n",
      "R2 on testing:  0.638446379736\n",
      "\n",
      "Regression Flights-only model\n",
      "\n",
      "R2 on training:  0.834662881864\n",
      "R2 on testing:  -0.00122591645345\n",
      "\n",
      "Regression Commute-time-only model\n",
      "\n",
      "R2 on training:  0.344727106507\n",
      "R2 on testing:  0.295685400119\n"
     ]
    }
   ],
   "source": [
    "nsims = 2\n",
    "R2s_base_train = []\n",
    "R2s_base_test = []\n",
    "R2s_flightsonly_train = []\n",
    "R2s_flightsonly_test = []\n",
    "R2s_commuteonly_train = []\n",
    "R2s_commuteonly_test = []\n",
    "\n",
    "for i in range(nsims):\n",
    "    # make x and y\n",
    "    y = master.zika_counts\n",
    "    x = master.drop('zika_counts', axis=1)\n",
    "    x_flightsonly = x[['temp','pop','mosquito','flights_oag']]\n",
    "    x_commuteonly = x[['temp','pop','mosquito','log_commute_time']]\n",
    "    #x_flightsonly = x[['flights_oag']]\n",
    "    #x_commuteonly = x[['log_commute_time']]\n",
    "\n",
    "    # scale\n",
    "    x = preprocessing.scale(x)\n",
    "    x_flightsonly = preprocessing.scale(x_flightsonly)\n",
    "    x_commuteonly = preprocessing.scale(x_commuteonly)\n",
    "\n",
    "    # split into train and test\n",
    "    x_train, x_test, y_train, y_test = train_test_split(x, y, test_size=0.1)\n",
    "    x_flightsonly_train, x_flightsonly_test, y_flightsonly_train, y_flightsonly_test = train_test_split(x_flightsonly, y, test_size=0.1)\n",
    "    x_commuteonly_train, x_commuteonly_test, y_commuteonly_train, y_commuteonly_test = train_test_split(x_commuteonly, y, test_size=0.1)\n",
    "    \n",
    "    # baseline Regression\n",
    "    model = linear_model.LassoCV(cv=30)\n",
    "    model.fit(x_train,y_train)\n",
    "    R2s_base_train.append(model.score(x_train,y_train))\n",
    "    R2s_base_test.append(model.score(x_test,y_test))\n",
    "    \n",
    "    # Regression model flights only\n",
    "    model_flightsonly = linear_model.LassoCV(cv=30)\n",
    "    model_flightsonly.fit(x_flightsonly_train,y_flightsonly_train)\n",
    "    R2s_flightsonly_train.append(model_flightsonly.score(x_flightsonly_train,y_flightsonly_train))\n",
    "    R2s_flightsonly_test.append(model_flightsonly.score(x_flightsonly_test,y_flightsonly_test))\n",
    "    \n",
    "    # model commute time only\n",
    "    model_commuteonly = linear_model.LassoCV(cv=30)\n",
    "    model_commuteonly.fit(x_commuteonly_train,y_commuteonly_train)\n",
    "    R2s_commuteonly_train.append(model_commuteonly.score(x_commuteonly_train,y_commuteonly_train))\n",
    "    R2s_commuteonly_test.append(model_commuteonly.score(x_commuteonly_test,y_commuteonly_test))\n",
    "\n",
    "print 'Regression Baseline model\\n'\n",
    "print 'R2 on training: ', np.mean(R2s_base_train)\n",
    "print 'R2 on testing: ', np.mean(R2s_base_test)\n",
    "print '\\nRegression Flights-only model\\n'\n",
    "print 'R2 on training: ', np.mean(R2s_flightsonly_train)\n",
    "print 'R2 on testing: ', np.mean(R2s_flightsonly_test)\n",
    "print '\\nRegression Commute-time-only model\\n'\n",
    "print 'R2 on training: ', np.mean(R2s_commuteonly_train)\n",
    "print 'R2 on testing: ', np.mean(R2s_commuteonly_test)"
   ]
  },
  {
   "cell_type": "code",
   "execution_count": 35,
   "metadata": {
    "collapsed": false
   },
   "outputs": [
    {
     "data": {
      "text/plain": [
       "(54, 6)"
      ]
     },
     "execution_count": 35,
     "metadata": {},
     "output_type": "execute_result"
    }
   ],
   "source": [
    "x.shape"
   ]
  },
  {
   "cell_type": "code",
   "execution_count": null,
   "metadata": {
    "collapsed": true
   },
   "outputs": [],
   "source": []
  }
 ],
 "metadata": {
  "anaconda-cloud": {},
  "kernelspec": {
   "display_name": "Python [Root]",
   "language": "python",
   "name": "Python [Root]"
  },
  "language_info": {
   "codemirror_mode": {
    "name": "ipython",
    "version": 2
   },
   "file_extension": ".py",
   "mimetype": "text/x-python",
   "name": "python",
   "nbconvert_exporter": "python",
   "pygments_lexer": "ipython2",
   "version": "2.7.12"
  }
 },
 "nbformat": 4,
 "nbformat_minor": 0
}
