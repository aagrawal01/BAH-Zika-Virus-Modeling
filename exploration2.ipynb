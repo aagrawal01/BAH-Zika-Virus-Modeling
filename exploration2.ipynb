{
 "cells": [
  {
   "cell_type": "code",
   "execution_count": 336,
   "metadata": {
    "collapsed": false
   },
   "outputs": [],
   "source": [
    "import glob\n",
    "import pandas as pd\n",
    "import numpy as np\n",
    "import scipy as sp\n",
    "import matplotlib\n",
    "import matplotlib.pyplot as plt\n",
    "import sklearn\n",
    "from sklearn import preprocessing\n",
    "from sklearn import linear_model\n",
    "import datetime\n",
    "import dateutil.parser as parser\n",
    "%matplotlib inline\n",
    "plt.style.use('ggplot')"
   ]
  },
  {
   "cell_type": "code",
   "execution_count": 2,
   "metadata": {
    "collapsed": false
   },
   "outputs": [
    {
     "name": "stderr",
     "output_type": "stream",
     "text": [
      "/Users/amandazhang/anaconda2/lib/python2.7/site-packages/IPython/core/interactiveshell.py:2723: DtypeWarning: Columns (7) have mixed types. Specify dtype option on import or set low_memory=False.\n",
      "  interactivity=interactivity, compiler=compiler, result=result)\n"
     ]
    }
   ],
   "source": [
    "# master dataframe\n",
    "cdc_zika = pd.read_csv(\"cdc_zika.csv\", usecols = ['report_date','location','data_field','value'])\n",
    "cdc_zika.dropna(inplace=True)"
   ]
  },
  {
   "cell_type": "code",
   "execution_count": 3,
   "metadata": {
    "collapsed": false
   },
   "outputs": [],
   "source": [
    "# make cdcUSA\n",
    "cdcUSA = cdc_zika[cdc_zika.location.str.contains('United_States-')]\n",
    "# get rid of pesky Florida counties\n",
    "cdcUSA = cdcUSA[(cdcUSA.data_field == 'zika_reported_travel') | \n",
    "                (cdcUSA.data_field == 'zika_reported_local')]\n",
    "# combine travel and local cases\n",
    "zika_counts = cdcUSA.groupby('location').sum().value"
   ]
  },
  {
   "cell_type": "code",
   "execution_count": 152,
   "metadata": {
    "collapsed": false
   },
   "outputs": [],
   "source": [
    "# temperature data\n",
    "temp = pd.read_csv('usa_avg_summer_temp.csv', index_col='State')"
   ]
  },
  {
   "cell_type": "code",
   "execution_count": 5,
   "metadata": {
    "collapsed": false
   },
   "outputs": [
    {
     "name": "stderr",
     "output_type": "stream",
     "text": [
      "/Users/amandazhang/anaconda2/lib/python2.7/site-packages/IPython/core/interactiveshell.py:2723: DtypeWarning: Columns (51,53,54,55,56,58,60,62,64,66,68,70,72) have mixed types. Specify dtype option on import or set low_memory=False.\n",
      "  interactivity=interactivity, compiler=compiler, result=result)\n",
      "/Users/amandazhang/anaconda2/lib/python2.7/site-packages/pandas/core/generic.py:2701: SettingWithCopyWarning: \n",
      "A value is trying to be set on a copy of a slice from a DataFrame.\n",
      "Try using .loc[row_indexer,col_indexer] = value instead\n",
      "\n",
      "See the caveats in the documentation: http://pandas.pydata.org/pandas-docs/stable/indexing.html#indexing-view-versus-copy\n",
      "  self[name] = value\n",
      "/Users/amandazhang/anaconda2/lib/python2.7/site-packages/ipykernel/__main__.py:18: SettingWithCopyWarning: \n",
      "A value is trying to be set on a copy of a slice from a DataFrame.\n",
      "Try using .loc[row_indexer,col_indexer] = value instead\n",
      "\n",
      "See the caveats in the documentation: http://pandas.pydata.org/pandas-docs/stable/indexing.html#indexing-view-versus-copy\n",
      "/Users/amandazhang/anaconda2/lib/python2.7/site-packages/ipykernel/__main__.py:19: SettingWithCopyWarning: \n",
      "A value is trying to be set on a copy of a slice from a DataFrame.\n",
      "Try using .loc[row_indexer,col_indexer] = value instead\n",
      "\n",
      "See the caveats in the documentation: http://pandas.pydata.org/pandas-docs/stable/indexing.html#indexing-view-versus-copy\n",
      "/Users/amandazhang/anaconda2/lib/python2.7/site-packages/ipykernel/__main__.py:20: SettingWithCopyWarning: \n",
      "A value is trying to be set on a copy of a slice from a DataFrame.\n",
      "Try using .loc[row_indexer,col_indexer] = value instead\n",
      "\n",
      "See the caveats in the documentation: http://pandas.pydata.org/pandas-docs/stable/indexing.html#indexing-view-versus-copy\n"
     ]
    }
   ],
   "source": [
    "### OAG flight stuff\n",
    "\n",
    "oag = pd.read_csv('OAGJAN13.csv')\n",
    "\n",
    "# take out relevant columns\n",
    "oag_subset = oag[['depctry','arrctry','arrcity','days','efffrom','effto','seats','distance']]\n",
    "\n",
    "# turn days into number of days\n",
    "oag_subset.days = [len(x) for x in oag_subset.days]\n",
    "\n",
    "# translate fromday (str) to number of days from beginning of 2016 (int)\n",
    "# same for today\n",
    "fromdays = np.array(map(lambda x: int(x[-2:]) + 30*(int(x[-4:-2])-1), oag_subset.efffrom.astype(str)))\n",
    "todays = np.array(map(lambda x: int(x[-2:]) + 30*(int(x[-4:-2])-1),oag_subset.effto.astype(str)))\n",
    "\n",
    "# only interested in first half of year (since only have Zika data for then)\n",
    "todays[todays > 183] = [183]*len(todays[todays > 183]) # cannot end after June\n",
    "oag_subset['fromdays'] = fromdays\n",
    "oag_subset['todays'] = todays\n",
    "oag_subset['flights'] = ((todays - fromdays)/7.0 * oag_subset['days'].astype(int)) # calculate flights\n",
    "oag_subset = oag_subset.ix[oag_subset.fromdays < 183] # cannot start after June\n",
    "# round to integer\n",
    "oag_subset.flights = np.round(oag_subset.flights)\n",
    "\n",
    "# remove unneeded columns 'effrom' 'effto' etc\n",
    "oag_subset = oag_subset[['depctry','arrctry','arrcity','seats','distance','flights']]\n",
    "\n",
    "# only interested in BR to US\n",
    "oag_subset = oag_subset[(oag_subset.depctry == 'BR') & (oag_subset.arrctry == 'US')]"
   ]
  },
  {
   "cell_type": "code",
   "execution_count": 6,
   "metadata": {
    "collapsed": false
   },
   "outputs": [],
   "source": [
    "# calculate total_seats and flights for each route\n",
    "oag_subset['total_seats_oag'] = oag_subset.seats * oag_subset.flights\n",
    "total_seats_oag = oag_subset['total_seats_oag'].groupby(oag_subset.arrcity).sum()\n",
    "flights_oag = oag_subset['flights'].groupby(oag_subset.arrcity).sum()"
   ]
  },
  {
   "cell_type": "code",
   "execution_count": 7,
   "metadata": {
    "collapsed": false
   },
   "outputs": [],
   "source": [
    "# consolidate\n",
    "oag_data = pd.DataFrame([total_seats_oag,flights_oag]).T\n",
    "# group by state instead of arrcity\n",
    "state = ['Georgia','Illinois','North Carolina','Texas','Michigan','Texas','California','Florida','New York','Florida','California','Washington']\n",
    "oag_data.index = state\n",
    "oag_data = oag_data.groupby(oag_data.index).sum()\n",
    "oag_data.columns = ['total_seats_oag','flights_oag']"
   ]
  },
  {
   "cell_type": "code",
   "execution_count": 8,
   "metadata": {
    "collapsed": false
   },
   "outputs": [],
   "source": [
    "### BTS data\n",
    "bts_data = pd.read_csv('stateflightdata_jan_june.csv', index_col = 'State')\n",
    "bts_data.drop('abr', axis=1, inplace=True)"
   ]
  },
  {
   "cell_type": "code",
   "execution_count": 106,
   "metadata": {
    "collapsed": false
   },
   "outputs": [],
   "source": [
    "### Population data\n",
    "pop_data = pd.read_csv('state_populations.csv', index_col = 'State')\n",
    "pop_data['pop'] = map(lambda x: int(x.replace(',','')), pop_data['pop']) # string to int"
   ]
  },
  {
   "cell_type": "code",
   "execution_count": 212,
   "metadata": {
    "collapsed": true
   },
   "outputs": [],
   "source": [
    "### input mosquito data from Russell\n",
    "mosquito = pd.read_csv('mosquitodata.csv', index_col=0)"
   ]
  },
  {
   "cell_type": "code",
   "execution_count": 34,
   "metadata": {
    "collapsed": false
   },
   "outputs": [],
   "source": [
    "# reindex to get rid of 'United_States-' prefix\n",
    "zika_counts.index = [x[len('United_States-'):] for x in zika_counts.index]\n",
    "# reindex to get rid of 'Pennsylvania††'\n",
    "zika_counts.Pennsylvania = zika_counts['Pennsylvania'] + zika_counts['Pennsylvania††']\n",
    "zika_counts.drop('Pennsylvania††', inplace=True)\n",
    "# write csv\n",
    "zika_counts.to_csv('zika_counts.csv')"
   ]
  },
  {
   "cell_type": "code",
   "execution_count": 300,
   "metadata": {
    "collapsed": false
   },
   "outputs": [],
   "source": [
    "# manual editing in excel D:\n",
    "#oag_data.to_csv('oag_data.csv')\n",
    "#bts_data.to_csv('bts_data.csv')\n",
    "oag_data = pd.read_csv('oag_data.csv',index_col='State')\n",
    "bts_data = pd.read_csv('bts_data.csv',index_col='State')\n",
    "pop_data = pd.read_csv('state_populations.csv',index_col='State')\n",
    "pop_data['pop'] = map(lambda x: int(x.replace(',','')), pop_data['pop']) # string to int\n",
    "temp = pd.read_csv('usa_avg_summer_temp.csv',index_col='State')\n",
    "zika_counts = pd.read_csv('zika_counts.csv',index_col='State')\n",
    "\n",
    "zika_counts.loc['Alaska'] = 0\n",
    "zika_counts.loc['Idaho'] = 0\n",
    "zika_counts.loc['North Dakota'] = 0\n",
    "zika_counts.loc['South Dakota'] = 0\n",
    "zika_counts.loc['Wyoming'] = 0"
   ]
  },
  {
   "cell_type": "code",
   "execution_count": 301,
   "metadata": {
    "collapsed": false
   },
   "outputs": [],
   "source": [
    "# make master dataframe\n",
    "master = pd.DataFrame({})\n",
    "master['zika_counts'] = zika_counts.zika_counts\n",
    "master['temp'] = temp\n",
    "master['pop_data'] = pop_data\n",
    "master['mosquito'] = mosquito['Number of occurences (1960-2016)']\n",
    "master['total_seats_oag'] = oag_data.total_seats_oag\n",
    "master['flights_oag'] = oag_data.flights_oag\n",
    "master['passengers_bts'] = bts_data.passengers"
   ]
  },
  {
   "cell_type": "code",
   "execution_count": 306,
   "metadata": {
    "collapsed": false,
    "scrolled": false
   },
   "outputs": [
    {
     "name": "stderr",
     "output_type": "stream",
     "text": [
      "/Users/amandazhang/anaconda2/lib/python2.7/site-packages/ipykernel/__main__.py:2: FutureWarning: sort(....) is deprecated, use sort_index(.....)\n",
      "  from ipykernel import kernelapp as app\n"
     ]
    }
   ],
   "source": [
    "master.fillna(0, inplace=True)\n",
    "master = master.sort()"
   ]
  },
  {
   "cell_type": "code",
   "execution_count": 307,
   "metadata": {
    "collapsed": false
   },
   "outputs": [],
   "source": [
    "# regression time!\n",
    "# make x and y\n",
    "y = master.zika_counts\n",
    "y_noPR = y.drop('Puerto Rico')\n",
    "\n",
    "x = master.drop('zika_counts', axis=1)\n",
    "x_noPR = x.drop('Puerto Rico')\n",
    "x_flightsonly = x.drop(['total_seats_oag','passengers_bts'], axis=1)\n",
    "x_flightsonly_nopop = x.drop(['total_seats_oag','passengers_bts','pop_data'], axis=1)\n",
    "x_noPR_flightsonly = x_noPR.drop(['total_seats_oag','passengers_bts'], axis=1)\n",
    "\n",
    "# scale\n",
    "x = preprocessing.scale(x)\n",
    "x_noPR = preprocessing.scale(x_noPR)\n",
    "x_flightsonly = preprocessing.scale(x_flightsonly)\n",
    "x_noPR_flightsonly = preprocessing.scale(x_noPR_flightsonly)\n",
    "x_flightsonly_nopop = preprocessing.scale(x_flightsonly_nopop)"
   ]
  },
  {
   "cell_type": "code",
   "execution_count": 367,
   "metadata": {
    "collapsed": false
   },
   "outputs": [
    {
     "data": {
      "text/html": [
       "<div>\n",
       "<table border=\"1\" class=\"dataframe\">\n",
       "  <thead>\n",
       "    <tr style=\"text-align: right;\">\n",
       "      <th></th>\n",
       "      <th>zika_counts</th>\n",
       "      <th>temp</th>\n",
       "      <th>pop_data</th>\n",
       "      <th>mosquito</th>\n",
       "      <th>total_seats_oag</th>\n",
       "      <th>flights_oag</th>\n",
       "      <th>passengers_bts</th>\n",
       "    </tr>\n",
       "    <tr>\n",
       "      <th>State</th>\n",
       "      <th></th>\n",
       "      <th></th>\n",
       "      <th></th>\n",
       "      <th></th>\n",
       "      <th></th>\n",
       "      <th></th>\n",
       "      <th></th>\n",
       "    </tr>\n",
       "  </thead>\n",
       "  <tbody>\n",
       "    <tr>\n",
       "      <th>Alabama</th>\n",
       "      <td>29</td>\n",
       "      <td>78.6</td>\n",
       "      <td>4863300</td>\n",
       "      <td>55.0</td>\n",
       "      <td>0.0</td>\n",
       "      <td>0.0</td>\n",
       "      <td>0.0</td>\n",
       "    </tr>\n",
       "    <tr>\n",
       "      <th>Alaska</th>\n",
       "      <td>0</td>\n",
       "      <td>52.3</td>\n",
       "      <td>741894</td>\n",
       "      <td>0.0</td>\n",
       "      <td>0.0</td>\n",
       "      <td>0.0</td>\n",
       "      <td>0.0</td>\n",
       "    </tr>\n",
       "    <tr>\n",
       "      <th>American Samoa</th>\n",
       "      <td>285</td>\n",
       "      <td>86.0</td>\n",
       "      <td>54343</td>\n",
       "      <td>12.0</td>\n",
       "      <td>0.0</td>\n",
       "      <td>0.0</td>\n",
       "      <td>0.0</td>\n",
       "    </tr>\n",
       "    <tr>\n",
       "      <th>Arizona</th>\n",
       "      <td>23</td>\n",
       "      <td>78.1</td>\n",
       "      <td>6931071</td>\n",
       "      <td>48.0</td>\n",
       "      <td>0.0</td>\n",
       "      <td>0.0</td>\n",
       "      <td>0.0</td>\n",
       "    </tr>\n",
       "    <tr>\n",
       "      <th>Arkansas</th>\n",
       "      <td>43</td>\n",
       "      <td>78.8</td>\n",
       "      <td>2988248</td>\n",
       "      <td>25.0</td>\n",
       "      <td>0.0</td>\n",
       "      <td>0.0</td>\n",
       "      <td>0.0</td>\n",
       "    </tr>\n",
       "    <tr>\n",
       "      <th>California</th>\n",
       "      <td>553</td>\n",
       "      <td>73.4</td>\n",
       "      <td>39250017</td>\n",
       "      <td>53.0</td>\n",
       "      <td>152531.0</td>\n",
       "      <td>634.0</td>\n",
       "      <td>42395.0</td>\n",
       "    </tr>\n",
       "    <tr>\n",
       "      <th>Colorado</th>\n",
       "      <td>46</td>\n",
       "      <td>65.2</td>\n",
       "      <td>5540545</td>\n",
       "      <td>1.0</td>\n",
       "      <td>0.0</td>\n",
       "      <td>0.0</td>\n",
       "      <td>0.0</td>\n",
       "    </tr>\n",
       "    <tr>\n",
       "      <th>Connecticut</th>\n",
       "      <td>14</td>\n",
       "      <td>69.2</td>\n",
       "      <td>3576452</td>\n",
       "      <td>0.0</td>\n",
       "      <td>0.0</td>\n",
       "      <td>0.0</td>\n",
       "      <td>0.0</td>\n",
       "    </tr>\n",
       "    <tr>\n",
       "      <th>Delaware</th>\n",
       "      <td>51</td>\n",
       "      <td>74.2</td>\n",
       "      <td>952065</td>\n",
       "      <td>6.0</td>\n",
       "      <td>0.0</td>\n",
       "      <td>0.0</td>\n",
       "      <td>0.0</td>\n",
       "    </tr>\n",
       "    <tr>\n",
       "      <th>Florida</th>\n",
       "      <td>1130</td>\n",
       "      <td>81.0</td>\n",
       "      <td>20612439</td>\n",
       "      <td>265.0</td>\n",
       "      <td>1410803.0</td>\n",
       "      <td>7574.0</td>\n",
       "      <td>622184.0</td>\n",
       "    </tr>\n",
       "  </tbody>\n",
       "</table>\n",
       "</div>"
      ],
      "text/plain": [
       "                zika_counts  temp  pop_data  mosquito  total_seats_oag  \\\n",
       "State                                                                    \n",
       "Alabama                  29  78.6   4863300      55.0              0.0   \n",
       "Alaska                    0  52.3    741894       0.0              0.0   \n",
       "American Samoa          285  86.0     54343      12.0              0.0   \n",
       "Arizona                  23  78.1   6931071      48.0              0.0   \n",
       "Arkansas                 43  78.8   2988248      25.0              0.0   \n",
       "California              553  73.4  39250017      53.0         152531.0   \n",
       "Colorado                 46  65.2   5540545       1.0              0.0   \n",
       "Connecticut              14  69.2   3576452       0.0              0.0   \n",
       "Delaware                 51  74.2    952065       6.0              0.0   \n",
       "Florida                1130  81.0  20612439     265.0        1410803.0   \n",
       "\n",
       "                flights_oag  passengers_bts  \n",
       "State                                        \n",
       "Alabama                 0.0             0.0  \n",
       "Alaska                  0.0             0.0  \n",
       "American Samoa          0.0             0.0  \n",
       "Arizona                 0.0             0.0  \n",
       "Arkansas                0.0             0.0  \n",
       "California            634.0         42395.0  \n",
       "Colorado                0.0             0.0  \n",
       "Connecticut             0.0             0.0  \n",
       "Delaware                0.0             0.0  \n",
       "Florida              7574.0        622184.0  "
      ]
     },
     "execution_count": 367,
     "metadata": {},
     "output_type": "execute_result"
    }
   ],
   "source": [
    "master.head(10)"
   ]
  },
  {
   "cell_type": "code",
   "execution_count": 308,
   "metadata": {
    "collapsed": false
   },
   "outputs": [
    {
     "name": "stdout",
     "output_type": "stream",
     "text": [
      "model with PR:\n",
      "\n",
      "coef_temp:  0.0\n",
      "coef_pop:  0.0\n",
      "coef_mosquito:  84.881\n",
      "coef_seats:  0.0\n",
      "coef_flights:  0.0\n",
      "coef_passengers:  0.0\n",
      "intercept:  360.574\n"
     ]
    }
   ],
   "source": [
    "model = linear_model.LassoCV(cv=50)\n",
    "model.fit(x,y)\n",
    "print 'model with PR:\\n'\n",
    "print 'coef_temp: ', round(model.coef_[0],3)\n",
    "print 'coef_pop: ', round(model.coef_[1],3)\n",
    "print 'coef_mosquito: ', round(model.coef_[2],3)\n",
    "print 'coef_seats: ', round(model.coef_[3],3)\n",
    "print 'coef_flights: ', round(model.coef_[4],3)\n",
    "print 'coef_passengers: ', round(model.coef_[5],3)\n",
    "print 'intercept: ', round(model.intercept_,3)"
   ]
  },
  {
   "cell_type": "code",
   "execution_count": 309,
   "metadata": {
    "collapsed": false
   },
   "outputs": [
    {
     "name": "stdout",
     "output_type": "stream",
     "text": [
      "model withOUT PR:\n",
      "\n",
      "coef_temp:  0.0\n",
      "coef_pop:  58.708\n",
      "coef_mosquito:  0.0\n",
      "coef_seats:  171.654\n",
      "coef_flights:  0.0\n",
      "coef_passengers:  0.0\n",
      "intercept:  150.208\n"
     ]
    }
   ],
   "source": [
    "# model without PR\n",
    "model_noPR = linear_model.LassoCV(cv=50)\n",
    "model_noPR.fit(x_noPR,y_noPR)\n",
    "print 'model withOUT PR:\\n'\n",
    "print 'coef_temp: ', round(model_noPR.coef_[0],3)\n",
    "print 'coef_pop: ', round(model_noPR.coef_[1],3)\n",
    "print 'coef_mosquito: ', round(model_noPR.coef_[2],3)\n",
    "print 'coef_seats: ', round(model_noPR.coef_[3],3)\n",
    "print 'coef_flights: ', round(model_noPR.coef_[4],3)\n",
    "print 'coef_passengers: ', round(model_noPR.coef_[5],3)\n",
    "print 'intercept: ', round(model_noPR.intercept_,3)"
   ]
  },
  {
   "cell_type": "code",
   "execution_count": 310,
   "metadata": {
    "collapsed": false
   },
   "outputs": [
    {
     "name": "stdout",
     "output_type": "stream",
     "text": [
      "model with PR, flights only:\n",
      "\n",
      "coef_temp:  0.0\n",
      "coef_pop:  0.0\n",
      "coef_mosquito:  65.828\n",
      "coef_flights:  0.0\n",
      "intercept:  360.574\n"
     ]
    }
   ],
   "source": [
    "# model without PR, flights only\n",
    "model_flightsonly = linear_model.LassoCV(cv=49)\n",
    "model_flightsonly.fit(x_flightsonly,y)\n",
    "print 'model with PR, flights only:\\n'\n",
    "print 'coef_temp: ', round(model_flightsonly.coef_[0],3)\n",
    "print 'coef_pop: ', round(model_flightsonly.coef_[1],3)\n",
    "print 'coef_mosquito: ', round(model_flightsonly.coef_[2],3)\n",
    "print 'coef_flights: ', round(model_flightsonly.coef_[3],3)\n",
    "print 'intercept: ', round(model_flightsonly.intercept_,3)"
   ]
  },
  {
   "cell_type": "code",
   "execution_count": 311,
   "metadata": {
    "collapsed": false
   },
   "outputs": [
    {
     "name": "stdout",
     "output_type": "stream",
     "text": [
      "model withOUT PR, flights only:\n",
      "\n",
      "coef_temp:  0.0\n",
      "coef_pop:  67.517\n",
      "coef_mosquito:  0.0\n",
      "coef_flights:  145.28\n",
      "intercept:  150.208\n"
     ]
    }
   ],
   "source": [
    "# model without PR, flights only\n",
    "model_noPR_flightsonly = linear_model.LassoCV(cv=48)\n",
    "model_noPR_flightsonly.fit(x_noPR_flightsonly,y_noPR)\n",
    "print 'model withOUT PR, flights only:\\n'\n",
    "print 'coef_temp: ', round(model_noPR_flightsonly.coef_[0],3)\n",
    "print 'coef_pop: ', round(model_noPR_flightsonly.coef_[1],3)\n",
    "print 'coef_mosquito: ', round(model_noPR_flightsonly.coef_[2],3)\n",
    "print 'coef_flights: ', round(model_noPR_flightsonly.coef_[3],3)\n",
    "print 'intercept: ', round(model_noPR_flightsonly.intercept_,3)"
   ]
  },
  {
   "cell_type": "code",
   "execution_count": 170,
   "metadata": {
    "collapsed": false
   },
   "outputs": [
    {
     "data": {
      "text/plain": [
       "0.97361648407906987"
      ]
     },
     "execution_count": 170,
     "metadata": {},
     "output_type": "execute_result"
    }
   ],
   "source": [
    "total_seats_oag.corr(flights_oag)"
   ]
  },
  {
   "cell_type": "code",
   "execution_count": 192,
   "metadata": {
    "collapsed": false
   },
   "outputs": [
    {
     "data": {
      "text/plain": [
       "0.92587897393074858"
      ]
     },
     "execution_count": 192,
     "metadata": {},
     "output_type": "execute_result"
    }
   ],
   "source": [
    "master.total_seats_oag.corr(master.passengers_bts)"
   ]
  },
  {
   "cell_type": "code",
   "execution_count": 193,
   "metadata": {
    "collapsed": false
   },
   "outputs": [
    {
     "data": {
      "text/plain": [
       "0.96886274803221073"
      ]
     },
     "execution_count": 193,
     "metadata": {},
     "output_type": "execute_result"
    }
   ],
   "source": [
    "master.flights_oag.corr(master.passengers_bts)"
   ]
  },
  {
   "cell_type": "code",
   "execution_count": 214,
   "metadata": {
    "collapsed": false,
    "scrolled": true
   },
   "outputs": [
    {
     "data": {
      "text/plain": [
       "0.51836406931479773"
      ]
     },
     "execution_count": 214,
     "metadata": {},
     "output_type": "execute_result"
    }
   ],
   "source": [
    "master.mosquito.corr(master.temp)"
   ]
  },
  {
   "cell_type": "code",
   "execution_count": 241,
   "metadata": {
    "collapsed": false
   },
   "outputs": [
    {
     "data": {
      "text/plain": [
       "0.47794258068379553"
      ]
     },
     "execution_count": 241,
     "metadata": {},
     "output_type": "execute_result"
    }
   ],
   "source": [
    "master.pop_data.corr(master.flights_oag)"
   ]
  },
  {
   "cell_type": "code",
   "execution_count": 364,
   "metadata": {
    "collapsed": false
   },
   "outputs": [
    {
     "data": {
      "image/png": "[encoded data removed]",
      "text/plain": [
       "<matplotlib.figure.Figure at 0x133fa4890>"
      ]
     },
     "metadata": {},
     "output_type": "display_data"
    }
   ],
   "source": [
    "fig, (ax1, ax2, ax3) = plt.subplots(3, 1, sharex=True, figsize=(14,10))\n",
    "ind = np.arange(len(master_noPR))\n",
    "ax1.bar(ind, master_noPR.zika_counts)\n",
    "ax2.bar(ind, master_noPR.flights_oag, color='darkorange')\n",
    "ax3.bar(ind, master_noPR.mosquito, color='purple')\n",
    "ax2.set_ylabel('Flights')\n",
    "ax1.set_ylabel('Zika Incidences')\n",
    "ax3.set_ylabel('Mosquito Occurences')\n",
    "ax3.set_xlabel('State')\n",
    "labels = master.index\n",
    "plt.xticks(ind,labels,rotation ='vertical')\n",
    "#fig.suptitle('Zika Incidences, Flights, Mosquito Occurences by State', fontsize=20)\n",
    "plt.tight_layout()\n",
    "ax1.set_xlim(0,52)\n",
    "#plt.show()\n",
    "\n",
    "plt.savefig('subcharts.png', dpi=100)"
   ]
  },
  {
   "cell_type": "code",
   "execution_count": 329,
   "metadata": {
    "collapsed": false
   },
   "outputs": [
    {
     "data": {
      "text/plain": [
       "<matplotlib.axes._subplots.AxesSubplot at 0x1222fc790>"
      ]
     },
     "execution_count": 329,
     "metadata": {},
     "output_type": "execute_result"
    },
    {
     "data": {
      "image/png": "[encoded data removed]",
      "text/plain": [
       "<matplotlib.figure.Figure at 0x12120e110>"
      ]
     },
     "metadata": {},
     "output_type": "display_data"
    }
   ],
   "source": [
    "master_noPR = master.drop('Puerto Rico')\n",
    "master_noPR.zika_counts.plot.bar(title = 'Number of Zika Cases - US States',figsize=(12,4), grid=True)\n"
   ]
  },
  {
   "cell_type": "code",
   "execution_count": null,
   "metadata": {
    "collapsed": true
   },
   "outputs": [],
   "source": []
  }
 ],
 "metadata": {
  "anaconda-cloud": {},
  "kernelspec": {
   "display_name": "Python [Root]",
   "language": "python",
   "name": "Python [Root]"
  },
  "language_info": {
   "codemirror_mode": {
    "name": "ipython",
    "version": 2
   },
   "file_extension": ".py",
   "mimetype": "text/x-python",
   "name": "python",
   "nbconvert_exporter": "python",
   "pygments_lexer": "ipython2",
   "version": "2.7.12"
  }
 },
 "nbformat": 4,
 "nbformat_minor": 0
}
